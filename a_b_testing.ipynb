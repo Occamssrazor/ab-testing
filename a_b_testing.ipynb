{
  "metadata": {
    "colab": {
      "provenance": []
    },
    "kernelspec": {
      "name": "python3",
      "display_name": "Python 3"
    },
    "language_info": {
      "name": "python"
    },
    "accelerator": "GPU",
    "gpuClass": "standard"
  },
  "nbformat_minor": 0,
  "nbformat": 4,
  "cells": [
    {
      "cell_type": "markdown",
      "source": [
        "Магазин e-commerce вводит новый дизайн на сайте.\n",
        "\n",
        "**Цель**: Определить с помощью А/B тестирования, какой дизайн эффективнее"
      ],
      "metadata": {
        "id": "cSFhmBjZ5zLQ"
      }
    },
    {
      "cell_type": "code",
      "source": [
        "import pandas as pd\n",
        "import numpy as np\n",
        "import matplotlib.pyplot as plt\n",
        "import scipy.stats as stats"
      ],
      "metadata": {
        "id": "HwnPGAXaYRPb"
      },
      "execution_count": 2,
      "outputs": []
    },
    {
      "cell_type": "code",
      "source": [
        "from google.colab import drive\n",
        "drive.mount('/content/drive')"
      ],
      "metadata": {
        "colab": {
          "base_uri": "https://localhost:8080/"
        },
        "id": "oJ7h544x6IDN",
        "outputId": "3dd5135e-481d-4896-f3a8-ef526974c532"
      },
      "execution_count": 1,
      "outputs": [
        {
          "output_type": "stream",
          "name": "stdout",
          "text": [
            "Mounted at /content/drive\n"
          ]
        }
      ]
    },
    {
      "cell_type": "code",
      "source": [
        "ab_test = pd.read_csv('/content/drive/MyDrive/homeworks/ab_test.csv')\n",
        "countries = pd.read_csv('/content/drive/MyDrive/homeworks/countries_ab.csv')\n",
        "\n",
        "data = pd.merge(ab_test, countries, on='id')\n",
        "\n",
        "data.head()"
      ],
      "metadata": {
        "colab": {
          "base_uri": "https://localhost:8080/",
          "height": 206
        },
        "id": "OBCVaUWJU942",
        "outputId": "719845f6-7383-4e97-c751-6d1351f6f284"
      },
      "execution_count": 3,
      "outputs": [
        {
          "output_type": "execute_result",
          "data": {
            "text/plain": [
              "       id     time  con_treat      page  converted country\n",
              "0  851104  11:48.6    control  old_page          0      US\n",
              "1  804228  01:45.2    control  old_page          0      US\n",
              "2  661590  55:06.2  treatment  new_page          0      US\n",
              "3  853541  28:03.1  treatment  new_page          0      US\n",
              "4  864975  52:26.2    control  old_page          1      US"
            ],
            "text/html": [
              "\n",
              "  <div id=\"df-616e3cd5-90e1-4a7c-822b-ee4d6cb36de2\" class=\"colab-df-container\">\n",
              "    <div>\n",
              "<style scoped>\n",
              "    .dataframe tbody tr th:only-of-type {\n",
              "        vertical-align: middle;\n",
              "    }\n",
              "\n",
              "    .dataframe tbody tr th {\n",
              "        vertical-align: top;\n",
              "    }\n",
              "\n",
              "    .dataframe thead th {\n",
              "        text-align: right;\n",
              "    }\n",
              "</style>\n",
              "<table border=\"1\" class=\"dataframe\">\n",
              "  <thead>\n",
              "    <tr style=\"text-align: right;\">\n",
              "      <th></th>\n",
              "      <th>id</th>\n",
              "      <th>time</th>\n",
              "      <th>con_treat</th>\n",
              "      <th>page</th>\n",
              "      <th>converted</th>\n",
              "      <th>country</th>\n",
              "    </tr>\n",
              "  </thead>\n",
              "  <tbody>\n",
              "    <tr>\n",
              "      <th>0</th>\n",
              "      <td>851104</td>\n",
              "      <td>11:48.6</td>\n",
              "      <td>control</td>\n",
              "      <td>old_page</td>\n",
              "      <td>0</td>\n",
              "      <td>US</td>\n",
              "    </tr>\n",
              "    <tr>\n",
              "      <th>1</th>\n",
              "      <td>804228</td>\n",
              "      <td>01:45.2</td>\n",
              "      <td>control</td>\n",
              "      <td>old_page</td>\n",
              "      <td>0</td>\n",
              "      <td>US</td>\n",
              "    </tr>\n",
              "    <tr>\n",
              "      <th>2</th>\n",
              "      <td>661590</td>\n",
              "      <td>55:06.2</td>\n",
              "      <td>treatment</td>\n",
              "      <td>new_page</td>\n",
              "      <td>0</td>\n",
              "      <td>US</td>\n",
              "    </tr>\n",
              "    <tr>\n",
              "      <th>3</th>\n",
              "      <td>853541</td>\n",
              "      <td>28:03.1</td>\n",
              "      <td>treatment</td>\n",
              "      <td>new_page</td>\n",
              "      <td>0</td>\n",
              "      <td>US</td>\n",
              "    </tr>\n",
              "    <tr>\n",
              "      <th>4</th>\n",
              "      <td>864975</td>\n",
              "      <td>52:26.2</td>\n",
              "      <td>control</td>\n",
              "      <td>old_page</td>\n",
              "      <td>1</td>\n",
              "      <td>US</td>\n",
              "    </tr>\n",
              "  </tbody>\n",
              "</table>\n",
              "</div>\n",
              "    <div class=\"colab-df-buttons\">\n",
              "\n",
              "  <div class=\"colab-df-container\">\n",
              "    <button class=\"colab-df-convert\" onclick=\"convertToInteractive('df-616e3cd5-90e1-4a7c-822b-ee4d6cb36de2')\"\n",
              "            title=\"Convert this dataframe to an interactive table.\"\n",
              "            style=\"display:none;\">\n",
              "\n",
              "  <svg xmlns=\"http://www.w3.org/2000/svg\" height=\"24px\" viewBox=\"0 -960 960 960\">\n",
              "    <path d=\"M120-120v-720h720v720H120Zm60-500h600v-160H180v160Zm220 220h160v-160H400v160Zm0 220h160v-160H400v160ZM180-400h160v-160H180v160Zm440 0h160v-160H620v160ZM180-180h160v-160H180v160Zm440 0h160v-160H620v160Z\"/>\n",
              "  </svg>\n",
              "    </button>\n",
              "\n",
              "  <style>\n",
              "    .colab-df-container {\n",
              "      display:flex;\n",
              "      gap: 12px;\n",
              "    }\n",
              "\n",
              "    .colab-df-convert {\n",
              "      background-color: #E8F0FE;\n",
              "      border: none;\n",
              "      border-radius: 50%;\n",
              "      cursor: pointer;\n",
              "      display: none;\n",
              "      fill: #1967D2;\n",
              "      height: 32px;\n",
              "      padding: 0 0 0 0;\n",
              "      width: 32px;\n",
              "    }\n",
              "\n",
              "    .colab-df-convert:hover {\n",
              "      background-color: #E2EBFA;\n",
              "      box-shadow: 0px 1px 2px rgba(60, 64, 67, 0.3), 0px 1px 3px 1px rgba(60, 64, 67, 0.15);\n",
              "      fill: #174EA6;\n",
              "    }\n",
              "\n",
              "    .colab-df-buttons div {\n",
              "      margin-bottom: 4px;\n",
              "    }\n",
              "\n",
              "    [theme=dark] .colab-df-convert {\n",
              "      background-color: #3B4455;\n",
              "      fill: #D2E3FC;\n",
              "    }\n",
              "\n",
              "    [theme=dark] .colab-df-convert:hover {\n",
              "      background-color: #434B5C;\n",
              "      box-shadow: 0px 1px 3px 1px rgba(0, 0, 0, 0.15);\n",
              "      filter: drop-shadow(0px 1px 2px rgba(0, 0, 0, 0.3));\n",
              "      fill: #FFFFFF;\n",
              "    }\n",
              "  </style>\n",
              "\n",
              "    <script>\n",
              "      const buttonEl =\n",
              "        document.querySelector('#df-616e3cd5-90e1-4a7c-822b-ee4d6cb36de2 button.colab-df-convert');\n",
              "      buttonEl.style.display =\n",
              "        google.colab.kernel.accessAllowed ? 'block' : 'none';\n",
              "\n",
              "      async function convertToInteractive(key) {\n",
              "        const element = document.querySelector('#df-616e3cd5-90e1-4a7c-822b-ee4d6cb36de2');\n",
              "        const dataTable =\n",
              "          await google.colab.kernel.invokeFunction('convertToInteractive',\n",
              "                                                    [key], {});\n",
              "        if (!dataTable) return;\n",
              "\n",
              "        const docLinkHtml = 'Like what you see? Visit the ' +\n",
              "          '<a target=\"_blank\" href=https://colab.research.google.com/notebooks/data_table.ipynb>data table notebook</a>'\n",
              "          + ' to learn more about interactive tables.';\n",
              "        element.innerHTML = '';\n",
              "        dataTable['output_type'] = 'display_data';\n",
              "        await google.colab.output.renderOutput(dataTable, element);\n",
              "        const docLink = document.createElement('div');\n",
              "        docLink.innerHTML = docLinkHtml;\n",
              "        element.appendChild(docLink);\n",
              "      }\n",
              "    </script>\n",
              "  </div>\n",
              "\n",
              "\n",
              "<div id=\"df-d7b4d750-794a-4ffa-83f0-220755b5adca\">\n",
              "  <button class=\"colab-df-quickchart\" onclick=\"quickchart('df-d7b4d750-794a-4ffa-83f0-220755b5adca')\"\n",
              "            title=\"Suggest charts\"\n",
              "            style=\"display:none;\">\n",
              "\n",
              "<svg xmlns=\"http://www.w3.org/2000/svg\" height=\"24px\"viewBox=\"0 0 24 24\"\n",
              "     width=\"24px\">\n",
              "    <g>\n",
              "        <path d=\"M19 3H5c-1.1 0-2 .9-2 2v14c0 1.1.9 2 2 2h14c1.1 0 2-.9 2-2V5c0-1.1-.9-2-2-2zM9 17H7v-7h2v7zm4 0h-2V7h2v10zm4 0h-2v-4h2v4z\"/>\n",
              "    </g>\n",
              "</svg>\n",
              "  </button>\n",
              "\n",
              "<style>\n",
              "  .colab-df-quickchart {\n",
              "      --bg-color: #E8F0FE;\n",
              "      --fill-color: #1967D2;\n",
              "      --hover-bg-color: #E2EBFA;\n",
              "      --hover-fill-color: #174EA6;\n",
              "      --disabled-fill-color: #AAA;\n",
              "      --disabled-bg-color: #DDD;\n",
              "  }\n",
              "\n",
              "  [theme=dark] .colab-df-quickchart {\n",
              "      --bg-color: #3B4455;\n",
              "      --fill-color: #D2E3FC;\n",
              "      --hover-bg-color: #434B5C;\n",
              "      --hover-fill-color: #FFFFFF;\n",
              "      --disabled-bg-color: #3B4455;\n",
              "      --disabled-fill-color: #666;\n",
              "  }\n",
              "\n",
              "  .colab-df-quickchart {\n",
              "    background-color: var(--bg-color);\n",
              "    border: none;\n",
              "    border-radius: 50%;\n",
              "    cursor: pointer;\n",
              "    display: none;\n",
              "    fill: var(--fill-color);\n",
              "    height: 32px;\n",
              "    padding: 0;\n",
              "    width: 32px;\n",
              "  }\n",
              "\n",
              "  .colab-df-quickchart:hover {\n",
              "    background-color: var(--hover-bg-color);\n",
              "    box-shadow: 0 1px 2px rgba(60, 64, 67, 0.3), 0 1px 3px 1px rgba(60, 64, 67, 0.15);\n",
              "    fill: var(--button-hover-fill-color);\n",
              "  }\n",
              "\n",
              "  .colab-df-quickchart-complete:disabled,\n",
              "  .colab-df-quickchart-complete:disabled:hover {\n",
              "    background-color: var(--disabled-bg-color);\n",
              "    fill: var(--disabled-fill-color);\n",
              "    box-shadow: none;\n",
              "  }\n",
              "\n",
              "  .colab-df-spinner {\n",
              "    border: 2px solid var(--fill-color);\n",
              "    border-color: transparent;\n",
              "    border-bottom-color: var(--fill-color);\n",
              "    animation:\n",
              "      spin 1s steps(1) infinite;\n",
              "  }\n",
              "\n",
              "  @keyframes spin {\n",
              "    0% {\n",
              "      border-color: transparent;\n",
              "      border-bottom-color: var(--fill-color);\n",
              "      border-left-color: var(--fill-color);\n",
              "    }\n",
              "    20% {\n",
              "      border-color: transparent;\n",
              "      border-left-color: var(--fill-color);\n",
              "      border-top-color: var(--fill-color);\n",
              "    }\n",
              "    30% {\n",
              "      border-color: transparent;\n",
              "      border-left-color: var(--fill-color);\n",
              "      border-top-color: var(--fill-color);\n",
              "      border-right-color: var(--fill-color);\n",
              "    }\n",
              "    40% {\n",
              "      border-color: transparent;\n",
              "      border-right-color: var(--fill-color);\n",
              "      border-top-color: var(--fill-color);\n",
              "    }\n",
              "    60% {\n",
              "      border-color: transparent;\n",
              "      border-right-color: var(--fill-color);\n",
              "    }\n",
              "    80% {\n",
              "      border-color: transparent;\n",
              "      border-right-color: var(--fill-color);\n",
              "      border-bottom-color: var(--fill-color);\n",
              "    }\n",
              "    90% {\n",
              "      border-color: transparent;\n",
              "      border-bottom-color: var(--fill-color);\n",
              "    }\n",
              "  }\n",
              "</style>\n",
              "\n",
              "  <script>\n",
              "    async function quickchart(key) {\n",
              "      const quickchartButtonEl =\n",
              "        document.querySelector('#' + key + ' button');\n",
              "      quickchartButtonEl.disabled = true;  // To prevent multiple clicks.\n",
              "      quickchartButtonEl.classList.add('colab-df-spinner');\n",
              "      try {\n",
              "        const charts = await google.colab.kernel.invokeFunction(\n",
              "            'suggestCharts', [key], {});\n",
              "      } catch (error) {\n",
              "        console.error('Error during call to suggestCharts:', error);\n",
              "      }\n",
              "      quickchartButtonEl.classList.remove('colab-df-spinner');\n",
              "      quickchartButtonEl.classList.add('colab-df-quickchart-complete');\n",
              "    }\n",
              "    (() => {\n",
              "      let quickchartButtonEl =\n",
              "        document.querySelector('#df-d7b4d750-794a-4ffa-83f0-220755b5adca button');\n",
              "      quickchartButtonEl.style.display =\n",
              "        google.colab.kernel.accessAllowed ? 'block' : 'none';\n",
              "    })();\n",
              "  </script>\n",
              "</div>\n",
              "    </div>\n",
              "  </div>\n"
            ]
          },
          "metadata": {},
          "execution_count": 3
        }
      ]
    },
    {
      "cell_type": "code",
      "source": [
        "plt.figure(figsize=(8,4))\n",
        "plt.hist(data['country'])\n",
        "plt.title('Пользователи по странам')\n",
        "plt.xlabel('Страна')\n",
        "plt.ylabel('Количество')\n",
        "for i, country in enumerate(data['country'].unique()):\n",
        "    count = data[data['country'] == country]['id'].count()\n",
        "plt.show()"
      ],
      "metadata": {
        "colab": {
          "base_uri": "https://localhost:8080/",
          "height": 410
        },
        "id": "7lbgh51wZbvG",
        "outputId": "4e44afb8-e361-4d42-d1cb-8c5736f8cc76"
      },
      "execution_count": 21,
      "outputs": [
        {
          "output_type": "display_data",
          "data": {
            "text/plain": [
              "<Figure size 800x400 with 1 Axes>"
            ],
            "image/png": "[encoded data removed]"
          },
          "metadata": {}
        }
      ]
    },
    {
      "cell_type": "code",
      "source": [
        "control_rate = data[data['con_treat']=='control']['converted'].mean()\n",
        "treatment_rate = data[data['con_treat']=='treatment']['converted'].mean()\n",
        "\n",
        "plt.bar(['Control', 'Treatment'], [control_rate, treatment_rate])\n",
        "plt.title('Конверсия по группам')\n",
        "plt.ylabel('Конверсия')\n",
        "plt.ylim(0, 0.15)\n",
        "plt.text(0, control_rate + 0.01, f'{control_rate:.4f}')\n",
        "plt.text(1, treatment_rate + 0.01, f'{treatment_rate:.4f}')\n",
        "plt.show()"
      ],
      "metadata": {
        "colab": {
          "base_uri": "https://localhost:8080/",
          "height": 452
        },
        "id": "QZJ1DB92ZH_Z",
        "outputId": "29dc2e26-7537-47ba-9868-318cdaad1e50"
      },
      "execution_count": 22,
      "outputs": [
        {
          "output_type": "display_data",
          "data": {
            "text/plain": [
              "<Figure size 640x480 with 1 Axes>"
            ],
            "image/png": "[encoded data removed]"
          },
          "metadata": {}
        }
      ]
    },
    {
      "cell_type": "code",
      "source": [
        "country_data = data.groupby('country')['converted'].mean().reset_index()\n",
        "\n",
        "plt.scatter(country_data['country'], country_data['converted'])\n",
        "plt.title('Конверсия по странам')\n",
        "plt.xlabel('Страна')\n",
        "plt.ylabel('Конверсия')\n",
        "plt.ylim(0, 0.15)\n",
        "for i, row in country_data.iterrows():\n",
        "    plt.text(row['country'], row['converted'] + 0.005, f'{row[\"converted\"]:.3f}', ha='center', va='bottom')\n",
        "plt.show()"
      ],
      "metadata": {
        "colab": {
          "base_uri": "https://localhost:8080/",
          "height": 472
        },
        "id": "lNfe6OwNZsWy",
        "outputId": "522eadab-d9c6-4707-ea74-9f42975e82ce"
      },
      "execution_count": 23,
      "outputs": [
        {
          "output_type": "display_data",
          "data": {
            "text/plain": [
              "<Figure size 640x480 with 1 Axes>"
            ],
            "image/png": "[encoded data removed]"
          },
          "metadata": {}
        }
      ]
    },
    {
      "cell_type": "code",
      "source": [
        "control = data[data['page'] == 'old_page']\n",
        "treatment = data[data['page'] == 'new_page']\n",
        "\n",
        "for country in data['country'].unique():\n",
        "    country_control = control[control['country'] == country]['converted']\n",
        "    country_treatment = treatment[treatment['country'] == country]['converted']\n",
        "\n",
        "    control_rate = country_control.mean()\n",
        "    treatment_rate = country_treatment.mean()\n",
        "\n",
        "    p_value = stats.ttest_ind(country_control, country_treatment)[1]\n",
        "\n",
        "    print(f'Страна: {country}')\n",
        "    print(f'Группа 1: {control_rate:.4f}')\n",
        "    print(f'Группа 2: {treatment_rate:.4f}')\n",
        "    print(f'P-value: {p_value:.4f}')\n",
        "    if p_value < 0.05:\n",
        "        print('Статистически значимое различие')\n",
        "    else:\n",
        "        print('Статистически незначимое различие')"
      ],
      "metadata": {
        "colab": {
          "base_uri": "https://localhost:8080/"
        },
        "id": "omVYnfkUYTxe",
        "outputId": "218f1064-3eed-42b1-def3-f394acbec0b7"
      },
      "execution_count": 24,
      "outputs": [
        {
          "output_type": "stream",
          "name": "stdout",
          "text": [
            "Страна: US\n",
            "Группа 1: 0.1208\n",
            "Группа 2: 0.1184\n",
            "P-value: 0.0971\n",
            "Статистически незначимое различие\n",
            "Страна: CA\n",
            "Группа 1: 0.1193\n",
            "Группа 2: 0.1125\n",
            "P-value: 0.1946\n",
            "Статистически незначимое различие\n",
            "Страна: UK\n",
            "Группа 1: 0.1198\n",
            "Группа 2: 0.1213\n",
            "P-value: 0.5365\n",
            "Статистически незначимое различие\n"
          ]
        }
      ]
    },
    {
      "cell_type": "markdown",
      "source": [
        "США: Коэффициент конверсии в контрольной группе составляет 0,1208, что означает, что 12,08% пользователей, увидевших старую страницу, перешли на нее. Коэффициент конверсии в экспериментальной группе - 0,1184, т.е. 11,84% пользователей, увидевших новую страницу, перешли на нее. Значение p-value составляет 0,0971, что не меньше 0,05 (обычный уровень значимости), и это говорит о том, что разница в коэффициентах конверсии не является статистически значимой. Таким образом, мы не можем сделать вывод о том, что новая страница более эффективна, чем старая, для пользователей в США.\n",
        "\n",
        "CA: Коэффициент конверсии в контрольной группе составляет 0,1193, что означает, что 11,93% пользователей, увидевших старую страницу, перешли на нее. Коэффициент конверсии в экспериментальной группе составляет 0,1125, т.е. 11,25% пользователей, увидевших новую страницу, перешли на нее. Значение p-value составляет 0,1946, что не менее 0,05, и указывает на то, что разница в коэффициентах конверсии не является статистически значимой. Таким образом, мы не можем сделать вывод о том, что новая страница более эффективна, чем старая, для пользователей в Канаде.\n",
        "\n",
        "ВЕЛИКОБРИТАНИЯ: Контрольный коэффициент конверсии в контрольной группе составляет 0,1198, что означает, что 11,98% пользователей, увидевших старую страницу, перешли на нее. Коэффициент конверсии в экспериментальной группе составляет 0,1213, что означает, что 12,13% пользователей, увидевших новую страницу, перешли на нее. Значение p-value составляет 0,5365, что не менее 0,05, и указывает на то, что разница в коэффициентах конверсии не является статистически значимой. Таким образом, мы не можем сделать вывод о том, что новая страница более эффективна, чем старая, для пользователей в Великобритании.\n",
        "\n",
        "\n",
        "\n"
      ],
      "metadata": {
        "id": "isWNcRPqYx--"
      }
    }
  ]
}